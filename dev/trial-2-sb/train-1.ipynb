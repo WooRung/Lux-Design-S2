{
 "cells": [
  {
   "cell_type": "code",
   "execution_count": 1,
   "metadata": {},
   "outputs": [],
   "source": [
    "%load_ext autoreload\n",
    "%autoreload 2\n",
    "%matplotlib inline"
   ]
  },
  {
   "cell_type": "code",
   "execution_count": 2,
   "metadata": {},
   "outputs": [],
   "source": [
    "# only for research\n",
    "import os\n",
    "os.environ['OPENCV_FFMPEG_CAPTURE_OPTIONS'] = 'protocol_whitelist;file,rtp,udp'"
   ]
  },
  {
   "cell_type": "code",
   "execution_count": 3,
   "metadata": {},
   "outputs": [
    {
     "name": "stdout",
     "output_type": "stream",
     "text": [
      "Python 3.8.16\n"
     ]
    }
   ],
   "source": [
    "!python --version\n"
   ]
  },
  {
   "attachments": {},
   "cell_type": "markdown",
   "metadata": {},
   "source": [
    "# Install dependencies\n"
   ]
  },
  {
   "cell_type": "code",
   "execution_count": 4,
   "metadata": {},
   "outputs": [
    {
     "name": "stdout",
     "output_type": "stream",
     "text": [
      "pygame 2.3.0 (SDL 2.24.2, Python 3.8.16)\n",
      "Hello from the pygame community. https://www.pygame.org/contribute.html\n"
     ]
    }
   ],
   "source": [
    "try:\n",
    "  import luxai_s2\n",
    "except:\n",
    "  !pip install --upgrade luxai_s2\n",
    "  !pip install pettingzoo == 1.12.0 gym == 0.21.0 stable-baselines3\n",
    "  !pip install --upgrade \"importlib_metadata<5.0\"\n"
   ]
  },
  {
   "cell_type": "code",
   "execution_count": 5,
   "metadata": {},
   "outputs": [],
   "source": [
    "# in kaggle notebook\n",
    "# %%writefile /opt/conda/lib/python3.7/site-packages/luxai_s2/version.py\n",
    "__version__ = \"0.1\"\n"
   ]
  },
  {
   "cell_type": "code",
   "execution_count": 6,
   "metadata": {},
   "outputs": [
    {
     "data": {
      "text/plain": [
       "<module 'importlib_metadata' from '/usr/local/anaconda3/envs/lux_dev/lib/python3.8/site-packages/importlib_metadata/__init__.py'>"
      ]
     },
     "execution_count": 6,
     "metadata": {},
     "output_type": "execute_result"
    }
   ],
   "source": [
    "import importlib\n",
    "import importlib_metadata\n",
    "# kaggle has 6.0.0 installed but we need version <5.0\n",
    "importlib.reload(importlib_metadata)\n"
   ]
  },
  {
   "cell_type": "code",
   "execution_count": 7,
   "metadata": {},
   "outputs": [],
   "source": [
    "import utils"
   ]
  },
  {
   "attachments": {},
   "cell_type": "markdown",
   "metadata": {},
   "source": [
    "# Build Interacting Env"
   ]
  },
  {
   "cell_type": "code",
   "execution_count": 8,
   "metadata": {},
   "outputs": [],
   "source": [
    "from luxai_s2.env import LuxAI_S2\n",
    "import matplotlib.pyplot as plt\n",
    "import numpy as np\n",
    "import json\n",
    "\n",
    "from luxai_s2.state import ObservationStateDict, DeltaObservationStateDict"
   ]
  },
  {
   "cell_type": "code",
   "execution_count": 9,
   "metadata": {},
   "outputs": [],
   "source": [
    "env = LuxAI_S2() # create the environment object\n",
    "obs: ObservationStateDict = env.reset(seed=41) # resets an environment with a seed"
   ]
  },
  {
   "cell_type": "code",
   "execution_count": 10,
   "metadata": {},
   "outputs": [
    {
     "data": {
      "text/plain": [
       "(dict_keys(['player_0', 'player_1']),\n",
       " dict_keys(['units', 'teams', 'factories', 'board', 'real_env_steps', 'global_id']))"
      ]
     },
     "execution_count": 10,
     "metadata": {},
     "output_type": "execute_result"
    }
   ],
   "source": [
    "# the observation is always composed of observations for both players.\n",
    "obs.keys(), obs[\"player_0\"].keys()"
   ]
  },
  {
   "cell_type": "code",
   "execution_count": null,
   "metadata": {},
   "outputs": [],
   "source": []
  },
  {
   "attachments": {},
   "cell_type": "markdown",
   "metadata": {},
   "source": [
    "# Environment 구성 (space 등)"
   ]
  },
  {
   "cell_type": "code",
   "execution_count": null,
   "metadata": {},
   "outputs": [],
   "source": []
  },
  {
   "attachments": {},
   "cell_type": "markdown",
   "metadata": {},
   "source": [
    "# 실행"
   ]
  },
  {
   "cell_type": "code",
   "execution_count": 17,
   "metadata": {},
   "outputs": [
    {
     "name": "stderr",
     "output_type": "stream",
     "text": [
      "[autoreload of agent failed: Traceback (most recent call last):\n",
      "  File \"/usr/local/anaconda3/envs/lux_dev/lib/python3.8/site-packages/IPython/extensions/autoreload.py\", line 273, in check\n",
      "    superreload(m, reload, self.old_objects)\n",
      "  File \"/usr/local/anaconda3/envs/lux_dev/lib/python3.8/site-packages/IPython/extensions/autoreload.py\", line 471, in superreload\n",
      "    module = reload(module)\n",
      "  File \"/usr/local/anaconda3/envs/lux_dev/lib/python3.8/importlib/__init__.py\", line 169, in reload\n",
      "    _bootstrap._exec(spec, module)\n",
      "  File \"<frozen importlib._bootstrap>\", line 604, in _exec\n",
      "  File \"<frozen importlib._bootstrap_external>\", line 843, in exec_module\n",
      "  File \"<frozen importlib._bootstrap>\", line 219, in _call_with_frames_removed\n",
      "  File \"/Users/betweak/betweak/projects/kaggle/lux-woorung/dev/trial-2-sb/agent.py\", line 15, in <module>\n",
      "    from .wrappers.controllers import BaseController\n",
      "ImportError: attempted relative import with no known parent package\n",
      "]\n"
     ]
    }
   ],
   "source": [
    "from agent import Agent\n",
    "import utils"
   ]
  },
  {
   "cell_type": "code",
   "execution_count": 16,
   "metadata": {},
   "outputs": [
    {
     "ename": "NameError",
     "evalue": "name 'fix' is not defined",
     "output_type": "error",
     "traceback": [
      "\u001B[0;31m---------------------------------------------------------------------------\u001B[0m",
      "\u001B[0;31mNameError\u001B[0m                                 Traceback (most recent call last)",
      "Cell \u001B[0;32mIn[16], line 1\u001B[0m\n\u001B[0;32m----> 1\u001B[0m Agent\n",
      "File \u001B[0;32m/usr/local/anaconda3/envs/lux_dev/lib/python3.8/site-packages/IPython/core/displayhook.py:268\u001B[0m, in \u001B[0;36mDisplayHook.__call__\u001B[0;34m(self, result)\u001B[0m\n\u001B[1;32m    266\u001B[0m \u001B[39mself\u001B[39m\u001B[39m.\u001B[39mstart_displayhook()\n\u001B[1;32m    267\u001B[0m \u001B[39mself\u001B[39m\u001B[39m.\u001B[39mwrite_output_prompt()\n\u001B[0;32m--> 268\u001B[0m format_dict, md_dict \u001B[39m=\u001B[39m \u001B[39mself\u001B[39;49m\u001B[39m.\u001B[39;49mcompute_format_data(result)\n\u001B[1;32m    269\u001B[0m \u001B[39mself\u001B[39m\u001B[39m.\u001B[39mupdate_user_ns(result)\n\u001B[1;32m    270\u001B[0m \u001B[39mself\u001B[39m\u001B[39m.\u001B[39mfill_exec_result(result)\n",
      "File \u001B[0;32m/usr/local/anaconda3/envs/lux_dev/lib/python3.8/site-packages/IPython/core/displayhook.py:157\u001B[0m, in \u001B[0;36mDisplayHook.compute_format_data\u001B[0;34m(self, result)\u001B[0m\n\u001B[1;32m    127\u001B[0m \u001B[39mdef\u001B[39;00m \u001B[39mcompute_format_data\u001B[39m(\u001B[39mself\u001B[39m, result):\n\u001B[1;32m    128\u001B[0m     \u001B[39m\"\"\"Compute format data of the object to be displayed.\u001B[39;00m\n\u001B[1;32m    129\u001B[0m \n\u001B[1;32m    130\u001B[0m \u001B[39m    The format data is a generalization of the :func:`repr` of an object.\u001B[39;00m\n\u001B[0;32m   (...)\u001B[0m\n\u001B[1;32m    155\u001B[0m \n\u001B[1;32m    156\u001B[0m \u001B[39m    \"\"\"\u001B[39;00m\n\u001B[0;32m--> 157\u001B[0m     \u001B[39mreturn\u001B[39;00m \u001B[39mself\u001B[39;49m\u001B[39m.\u001B[39;49mshell\u001B[39m.\u001B[39;49mdisplay_formatter\u001B[39m.\u001B[39;49mformat(result)\n",
      "File \u001B[0;32m/usr/local/anaconda3/envs/lux_dev/lib/python3.8/site-packages/IPython/core/formatters.py:145\u001B[0m, in \u001B[0;36mDisplayFormatter.format\u001B[0;34m(self, obj, include, exclude)\u001B[0m\n\u001B[1;32m    142\u001B[0m format_dict \u001B[39m=\u001B[39m {}\n\u001B[1;32m    143\u001B[0m md_dict \u001B[39m=\u001B[39m {}\n\u001B[0;32m--> 145\u001B[0m \u001B[39mif\u001B[39;00m \u001B[39mself\u001B[39;49m\u001B[39m.\u001B[39;49mipython_display_formatter(obj):\n\u001B[1;32m    146\u001B[0m     \u001B[39m# object handled itself, don't proceed\u001B[39;00m\n\u001B[1;32m    147\u001B[0m     \u001B[39mreturn\u001B[39;00m {}, {}\n\u001B[1;32m    149\u001B[0m format_dict, md_dict \u001B[39m=\u001B[39m \u001B[39mself\u001B[39m\u001B[39m.\u001B[39mmimebundle_formatter(obj, include\u001B[39m=\u001B[39minclude, exclude\u001B[39m=\u001B[39mexclude)\n",
      "File \u001B[0;32m/usr/local/anaconda3/envs/lux_dev/lib/python3.8/site-packages/decorator.py:231\u001B[0m, in \u001B[0;36mfun\u001B[0;34m(*args, **kw)\u001B[0m\n\u001B[1;32m    225\u001B[0m \u001B[39m\"\"\"\u001B[39;00m\n\u001B[1;32m    226\u001B[0m \u001B[39mdecorate(func, caller) decorates a function using a caller.\u001B[39;00m\n\u001B[1;32m    227\u001B[0m \u001B[39mIf the caller is a generator function, the resulting function\u001B[39;00m\n\u001B[1;32m    228\u001B[0m \u001B[39mwill be a generator function.\u001B[39;00m\n\u001B[1;32m    229\u001B[0m \u001B[39m\"\"\"\u001B[39;00m\n\u001B[1;32m    230\u001B[0m evaldict \u001B[39m=\u001B[39m \u001B[39mdict\u001B[39m(_call_\u001B[39m=\u001B[39mcaller, _func_\u001B[39m=\u001B[39mfunc)\n\u001B[0;32m--> 231\u001B[0m es \u001B[39m=\u001B[39m \u001B[39m'\u001B[39m\u001B[39m'\u001B[39m\n\u001B[1;32m    232\u001B[0m \u001B[39mfor\u001B[39;00m i, extra \u001B[39min\u001B[39;00m \u001B[39menumerate\u001B[39m(extras):\n\u001B[1;32m    233\u001B[0m     ex \u001B[39m=\u001B[39m \u001B[39m'\u001B[39m\u001B[39m_e\u001B[39m\u001B[39m%d\u001B[39;00m\u001B[39m_\u001B[39m\u001B[39m'\u001B[39m \u001B[39m%\u001B[39m i\n",
      "\u001B[0;31mNameError\u001B[0m: name 'fix' is not defined"
     ]
    }
   ],
   "source": []
  },
  {
   "cell_type": "code",
   "execution_count": 18,
   "metadata": {},
   "outputs": [
    {
     "name": "stderr",
     "output_type": "stream",
     "text": [
      "OpenCV: FFMPEG: tag 0x30395056/'VP90' is not supported with codec id 167 and format 'webm / WebM'\n"
     ]
    }
   ],
   "source": [
    "agents = {player: Agent(player, env.state.env_cfg) for player in env.agents}\n",
    "video = utils.interact(env, agents, 25)\n"
   ]
  },
  {
   "cell_type": "code",
   "execution_count": 28,
   "metadata": {},
   "outputs": [
    {
     "name": "stderr",
     "output_type": "stream",
     "text": [
      "OpenCV: FFMPEG: tag 0x30395056/'VP90' is not supported with codec id 167 and format 'webm / WebM'\n"
     ]
    }
   ],
   "source": [
    "from typing import Dict\n",
    "agents:Dict[str,Agent] = {player: Agent(player, env.state.env_cfg) for player in env.agents}\n",
    "video = utils.interact(env, agents, 25)"
   ]
  },
  {
   "cell_type": "code",
   "execution_count": 13,
   "metadata": {},
   "outputs": [],
   "source": [
    "# only for macOS\n",
    "!open {video}"
   ]
  }
 ],
 "metadata": {
  "kernelspec": {
   "display_name": "lux_ai",
   "language": "python",
   "name": "python3"
  },
  "language_info": {
   "codemirror_mode": {
    "name": "ipython",
    "version": 3
   },
   "file_extension": ".py",
   "mimetype": "text/x-python",
   "name": "python",
   "nbconvert_exporter": "python",
   "pygments_lexer": "ipython3",
   "version": "3.8.16"
  },
  "orig_nbformat": 4
 },
 "nbformat": 4,
 "nbformat_minor": 2
}

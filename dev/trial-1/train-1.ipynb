{
 "cells": [
  {
   "cell_type": "code",
   "execution_count": 1,
   "metadata": {},
   "outputs": [
    {
     "name": "stdout",
     "output_type": "stream",
     "text": [
      "Python 3.8.16\n"
     ]
    }
   ],
   "source": [
    "!python --version\n"
   ]
  },
  {
   "attachments": {},
   "cell_type": "markdown",
   "metadata": {},
   "source": [
    "# Install dependencies\n"
   ]
  },
  {
   "cell_type": "code",
   "execution_count": 2,
   "metadata": {},
   "outputs": [
    {
     "name": "stdout",
     "output_type": "stream",
     "text": [
      "Requirement already satisfied: luxai_s2 in /usr/local/anaconda3/envs/lux_dev/lib/python3.8/site-packages (2.1.9)\n",
      "Requirement already satisfied: numpy in /usr/local/anaconda3/envs/lux_dev/lib/python3.8/site-packages (from luxai_s2) (1.23.5)\n",
      "Requirement already satisfied: pygame in /usr/local/anaconda3/envs/lux_dev/lib/python3.8/site-packages (from luxai_s2) (2.3.0)\n",
      "Requirement already satisfied: termcolor in /usr/local/anaconda3/envs/lux_dev/lib/python3.8/site-packages (from luxai_s2) (2.1.0)\n",
      "Requirement already satisfied: matplotlib in /usr/local/anaconda3/envs/lux_dev/lib/python3.8/site-packages (from luxai_s2) (3.7.1)\n",
      "Requirement already satisfied: pettingzoo in /usr/local/anaconda3/envs/lux_dev/lib/python3.8/site-packages (from luxai_s2) (1.12.0)\n",
      "Requirement already satisfied: vec-noise in /usr/local/anaconda3/envs/lux_dev/lib/python3.8/site-packages (from luxai_s2) (1.1.4)\n",
      "Requirement already satisfied: gym==0.21.0 in /usr/local/anaconda3/envs/lux_dev/lib/python3.8/site-packages (from luxai_s2) (0.21.0)\n",
      "Requirement already satisfied: scipy in /usr/local/anaconda3/envs/lux_dev/lib/python3.8/site-packages (from luxai_s2) (1.10.1)\n",
      "Requirement already satisfied: importlib-metadata<5.0 in /usr/local/anaconda3/envs/lux_dev/lib/python3.8/site-packages (from luxai_s2) (4.13.0)\n",
      "Requirement already satisfied: cloudpickle>=1.2.0 in /usr/local/anaconda3/envs/lux_dev/lib/python3.8/site-packages (from gym==0.21.0->luxai_s2) (2.2.1)\n",
      "Requirement already satisfied: zipp>=0.5 in /usr/local/anaconda3/envs/lux_dev/lib/python3.8/site-packages (from importlib-metadata<5.0->luxai_s2) (3.15.0)\n",
      "Requirement already satisfied: contourpy>=1.0.1 in /usr/local/anaconda3/envs/lux_dev/lib/python3.8/site-packages (from matplotlib->luxai_s2) (1.0.7)\n",
      "Requirement already satisfied: cycler>=0.10 in /usr/local/anaconda3/envs/lux_dev/lib/python3.8/site-packages (from matplotlib->luxai_s2) (0.11.0)\n",
      "Requirement already satisfied: fonttools>=4.22.0 in /usr/local/anaconda3/envs/lux_dev/lib/python3.8/site-packages (from matplotlib->luxai_s2) (4.39.3)\n",
      "Requirement already satisfied: kiwisolver>=1.0.1 in /usr/local/anaconda3/envs/lux_dev/lib/python3.8/site-packages (from matplotlib->luxai_s2) (1.4.4)\n",
      "Requirement already satisfied: packaging>=20.0 in /usr/local/anaconda3/envs/lux_dev/lib/python3.8/site-packages (from matplotlib->luxai_s2) (23.1)\n",
      "Requirement already satisfied: pillow>=6.2.0 in /usr/local/anaconda3/envs/lux_dev/lib/python3.8/site-packages (from matplotlib->luxai_s2) (9.5.0)\n",
      "Requirement already satisfied: pyparsing>=2.3.1 in /usr/local/anaconda3/envs/lux_dev/lib/python3.8/site-packages (from matplotlib->luxai_s2) (3.0.9)\n",
      "Requirement already satisfied: python-dateutil>=2.7 in /usr/local/anaconda3/envs/lux_dev/lib/python3.8/site-packages (from matplotlib->luxai_s2) (2.8.2)\n",
      "Requirement already satisfied: importlib-resources>=3.2.0 in /usr/local/anaconda3/envs/lux_dev/lib/python3.8/site-packages (from matplotlib->luxai_s2) (5.12.0)\n",
      "Requirement already satisfied: six>=1.5 in /usr/local/anaconda3/envs/lux_dev/lib/python3.8/site-packages (from python-dateutil>=2.7->matplotlib->luxai_s2) (1.16.0)\n",
      "zsh:1: = not found\n",
      "Requirement already satisfied: importlib_metadata<5.0 in /usr/local/anaconda3/envs/lux_dev/lib/python3.8/site-packages (4.13.0)\n",
      "Requirement already satisfied: zipp>=0.5 in /usr/local/anaconda3/envs/lux_dev/lib/python3.8/site-packages (from importlib_metadata<5.0) (3.15.0)\n"
     ]
    }
   ],
   "source": [
    "!pip install --upgrade luxai_s2\n",
    "!pip install pettingzoo == 1.12.0 gym == 0.21.0 stable-baselines3\n",
    "!pip install --upgrade \"importlib_metadata<5.0\"\n"
   ]
  },
  {
   "cell_type": "code",
   "execution_count": 3,
   "metadata": {},
   "outputs": [],
   "source": [
    "# in kaggle notebook\n",
    "# %%writefile /opt/conda/lib/python3.7/site-packages/luxai_s2/version.py\n",
    "__version__ = \"0.1\"\n"
   ]
  },
  {
   "cell_type": "code",
   "execution_count": 4,
   "metadata": {},
   "outputs": [
    {
     "data": {
      "text/plain": [
       "<module 'importlib_metadata' from '/usr/local/anaconda3/envs/lux_dev/lib/python3.8/site-packages/importlib_metadata/__init__.py'>"
      ]
     },
     "execution_count": 4,
     "metadata": {},
     "output_type": "execute_result"
    }
   ],
   "source": [
    "import importlib\n",
    "import importlib_metadata\n",
    "# kaggle has 6.0.0 installed but we need version <5.0\n",
    "importlib.reload(importlib_metadata)\n"
   ]
  },
  {
   "attachments": {},
   "cell_type": "markdown",
   "metadata": {},
   "source": [
    "# Build Interacting Env"
   ]
  },
  {
   "cell_type": "code",
   "execution_count": 5,
   "metadata": {},
   "outputs": [
    {
     "name": "stdout",
     "output_type": "stream",
     "text": [
      "pygame 2.3.0 (SDL 2.24.2, Python 3.8.16)\n",
      "Hello from the pygame community. https://www.pygame.org/contribute.html\n"
     ]
    }
   ],
   "source": [
    "from luxai_s2.env import LuxAI_S2\n",
    "import matplotlib.pyplot as plt\n",
    "import numpy as np\n",
    "import json\n",
    "\n",
    "from luxai_s2.state import ObservationStateDict, DeltaObservationStateDict"
   ]
  },
  {
   "cell_type": "code",
   "execution_count": 6,
   "metadata": {},
   "outputs": [],
   "source": [
    "env = LuxAI_S2() # create the environment object\n",
    "obs:ObservationStateDict = env.reset(seed=41) # resets an environment with a seed"
   ]
  },
  {
   "cell_type": "code",
   "execution_count": 7,
   "metadata": {},
   "outputs": [
    {
     "data": {
      "text/plain": [
       "(dict_keys(['player_0', 'player_1']),\n",
       " dict_keys(['units', 'teams', 'factories', 'board', 'real_env_steps', 'global_id']))"
      ]
     },
     "execution_count": 7,
     "metadata": {},
     "output_type": "execute_result"
    }
   ],
   "source": [
    "# the observation is always composed of observations for both players.\n",
    "obs.keys(), obs[\"player_0\"].keys()"
   ]
  },
  {
   "cell_type": "code",
   "execution_count": null,
   "metadata": {},
   "outputs": [],
   "source": []
  },
  {
   "cell_type": "code",
   "execution_count": null,
   "metadata": {},
   "outputs": [],
   "source": []
  },
  {
   "cell_type": "code",
   "execution_count": null,
   "metadata": {},
   "outputs": [],
   "source": []
  }
 ],
 "metadata": {
  "kernelspec": {
   "display_name": "lux_ai",
   "language": "python",
   "name": "python3"
  },
  "language_info": {
   "codemirror_mode": {
    "name": "ipython",
    "version": 3
   },
   "file_extension": ".py",
   "mimetype": "text/x-python",
   "name": "python",
   "nbconvert_exporter": "python",
   "pygments_lexer": "ipython3",
   "version": "3.8.16"
  },
  "orig_nbformat": 4
 },
 "nbformat": 4,
 "nbformat_minor": 2
}
